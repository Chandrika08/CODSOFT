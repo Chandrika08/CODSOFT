{
  "nbformat": 4,
  "nbformat_minor": 0,
  "metadata": {
    "colab": {
      "provenance": []
    },
    "kernelspec": {
      "name": "python3",
      "display_name": "Python 3"
    },
    "language_info": {
      "name": "python"
    }
  },
  "cells": [
    {
      "cell_type": "markdown",
      "source": [
        "# Movie genre classification"
      ],
      "metadata": {
        "id": "UHluPSb8nblY"
      }
    },
    {
      "cell_type": "markdown",
      "source": [],
      "metadata": {
        "id": "TBFT3ynbnr88"
      }
    },
    {
      "cell_type": "code",
      "source": [
        "import pandas as pd\n",
        "\n",
        "data = []\n",
        "\n",
        "with open(\"train_data.txt\", 'r') as f:\n",
        "    for line in f:\n",
        "        # Split the line based on delimiters (:::)\n",
        "        parts = line.strip().split(\":::\")\n",
        "\n",
        "        # Extract remaining information (assuming serial number is in the first column)\n",
        "        serial_no = parts[0]  # Extract serial number from first element\n",
        "        title_year, genre, description = parts[1:]  # Extract remaining parts from index 1 onwards\n",
        "\n",
        "        # Append data as a list\n",
        "        data.append([serial_no, title_year, genre, description])\n",
        "\n",
        "# Create a DataFrame\n",
        "df = pd.DataFrame(data, columns=[\"serial_no\", \"title_year\", \"genre\", \"description\"])\n",
        "\n",
        "# Save as CSV\n",
        "df.to_csv(\"train_data.csv\", index=False)"
      ],
      "metadata": {
        "id": "OMZzoy4Q6np7"
      },
      "execution_count": null,
      "outputs": []
    },
    {
      "cell_type": "code",
      "source": [
        "import pandas as pd\n",
        "\n",
        "# Converting text file to csv form\n",
        "data = []\n",
        "with open(\"test_data.txt\", 'r') as f:  # Open the file for reading\n",
        "    for line in f:\n",
        "        # Split the line, handling potential extra parts\n",
        "        parts = line.strip().split(\":::\", maxsplit=2)  # Split at most twice\n",
        "        # Handle cases with less than 3 parts (fill with empty strings)\n",
        "        if len(parts) < 3:\n",
        "            parts += [\"\"] * (3 - len(parts))  # Add empty strings for missing values\n",
        "        serial_no,title_year,description = parts\n",
        "        # Append data as a list of lists\n",
        "        data.append([serial_no,title_year,description])\n",
        "\n",
        "# Create a DataFrame\n",
        "df = pd.DataFrame(data, columns=[\"serial_no\",\"title_year\", \"description\"])\n",
        "\n",
        "# Save as CSV\n",
        "df.to_csv(\"test_data.csv\", index=False)"
      ],
      "metadata": {
        "id": "2P4B1dM_7EW6"
      },
      "execution_count": 12,
      "outputs": []
    },
    {
      "cell_type": "code",
      "source": [
        "import pandas as pd\n",
        "\n",
        "# Replace \"your_file.txt\" with the actual file name\n",
        "data = []\n",
        "\n",
        "with open(\"test_data_solution.txt\", 'r') as f:\n",
        "    for line in f:\n",
        "        # Split the line based on delimiters (:::)\n",
        "        parts = line.strip().split(\":::\")\n",
        "\n",
        "        # Extract remaining information (assuming serial number is in the first column)\n",
        "        serial_no = parts[0]  # Extract serial number from first element\n",
        "        title_year, genre, description = parts[1:]  # Extract remaining parts from index 1 onwards\n",
        "\n",
        "        # Append data as a list\n",
        "        data.append([serial_no, title_year, genre, description])\n",
        "\n",
        "# Create a DataFrame\n",
        "df = pd.DataFrame(data, columns=[\"serial_no\", \"title_year\", \"genre\", \"description\"])\n",
        "\n",
        "# Save as CSV\n",
        "df.to_csv(\"test_data_solution.csv\", index=False)"
      ],
      "metadata": {
        "id": "DimrI8hFAPQu"
      },
      "execution_count": 16,
      "outputs": []
    },
    {
      "cell_type": "code",
      "source": [
        "!pip install nltk\n",
        "import nltk\n",
        "nltk.download('stopwords')\n",
        "import pandas as pd\n",
        "from sklearn.feature_extraction.text import TfidfVectorizer\n",
        "from sklearn.svm import SVC  # Using Support Vector Machine (SVM)\n",
        "from sklearn.model_selection import train_test_split\n",
        "from sklearn.metrics import accuracy_score\n",
        "from nltk.util import ngrams\n",
        "\n",
        "# Load Data\n",
        "train_data = pd.read_csv(\"train_data.csv\")\n",
        "plot_summaries_train = train_data['description']\n",
        "genres_train = train_data['genre']\n",
        "\n",
        "test_data = pd.read_csv(\"test_data.csv\")\n",
        "plot_summaries_test = test_data['description']\n",
        "\n",
        "test_solution = pd.read_csv(\"test_data_solution.csv\")\n",
        "genres_test_solution = test_solution['genre']\n",
        "\n",
        "# Print First Five Records\n",
        "print(\"Train Data (First 5 Records):\")\n",
        "print(train_data.head())\n",
        "\n",
        "print(\"\\nTest Data (First 5 Records):\")\n",
        "print(test_data.head())\n",
        "\n",
        "print(\"\\nTest Data Solution (First 5 Records):\")\n",
        "print(test_solution.head())\n",
        "\n",
        "# Text Preprocessing\n",
        "\n",
        "def process_text_data(text):\n",
        "\n",
        "  # Lowercase conversion\n",
        "  text = text.lower()\n",
        "\n",
        "  # Remove punctuation\n",
        "  import string\n",
        "  punctuations = string.punctuation\n",
        "  text = \"\".join([char for char in text if char not in punctuations])\n",
        "\n",
        "  #Stop word removal\n",
        "  from nltk.corpus import stopwords\n",
        "  stop_words = stopwords.words('english')\n",
        "  text = [word for word in text.split() if word not in stop_words]\n",
        "  text = \" \".join(text)\n",
        "\n",
        "  return text\n",
        "\n",
        "plot_summaries_train = plot_summaries_train.apply(process_text_data)\n",
        "plot_summaries_test = plot_summaries_test.apply(process_text_data)\n",
        "\n",
        "# Feature Engineering\n",
        "# N-gram Features (bigrams as an example)\n",
        "def generate_ngrams(text, n):\n",
        "\n",
        "  return ngrams(text.split(), n)\n",
        "\n",
        "plot_summaries_train_ngrams = []\n",
        "for summary in plot_summaries_train:\n",
        "  bigrams = generate_ngrams(summary, 2)\n",
        "  plot_summaries_train_ngrams.extend(bigrams)\n",
        "\n",
        "plot_summaries_test_ngrams = []\n",
        "for summary in plot_summaries_test:\n",
        "  bigrams = generate_ngrams(summary, 2)\n",
        "  plot_summaries_test_ngrams.extend(bigrams)\n",
        "\n",
        "# Combine original text features with n-gram features (optional)\n",
        "plot_summaries_train_combined = [\" \".join(summary) for summary in plot_summaries_train] + [\" \".join(gram) for gram in plot_summaries_train_ngrams]\n",
        "plot_summaries_test_combined = [\" \".join(summary) for summary in plot_summaries_test] + [\" \".join(gram) for gram in plot_summaries_test_ngrams]\n",
        "\n",
        "# Vectorization (consider adjusting max_features)\n",
        "vectorizer = TfidfVectorizer(max_features=1000)\n",
        "if not plot_summaries_train_combined:  # Use combined features if generated\n",
        "  plot_summaries_train_vectorized = vectorizer.fit_transform(plot_summaries_train)\n",
        "  plot_summaries_test_vectorized = vectorizer\n",
        "\n",
        "# Train the Model (using SVC for SVM)\n",
        "classifier = SVC()  # Hyperparameter tuning might be needed\n",
        "classifier.fit(plot_summaries_train_vectorized, genres_train)\n",
        "\n",
        "# Predict Genres on Test Data\n",
        "y_pred = classifier.predict(plot_summaries_test_vectorized)\n",
        "\n",
        "# Print Predictions for First Five Results\n",
        "print(\"\\nPredicted Genres for First Five Test Data Entries:\")\n",
        "for i in range(5):\n",
        "  print(f\"  - Predicted Genre: {y_pred[i]}\")\n",
        "\n",
        "# Evaluate Model Accuracy\n",
        "accuracy = accuracy_score(genres_test_solution, y_pred)\n",
        "print(\"Model Accuracy:\", accuracy)\n"
      ],
      "metadata": {
        "colab": {
          "base_uri": "https://localhost:8080/"
        },
        "id": "dS9bc_GCOa3k",
        "outputId": "ce66df2e-afde-4ef3-b678-c6c97b3bfd14"
      },
      "execution_count": 29,
      "outputs": [
        {
          "output_type": "stream",
          "name": "stdout",
          "text": [
            "Requirement already satisfied: nltk in /usr/local/lib/python3.10/dist-packages (3.8.1)\n",
            "Requirement already satisfied: click in /usr/local/lib/python3.10/dist-packages (from nltk) (8.1.7)\n",
            "Requirement already satisfied: joblib in /usr/local/lib/python3.10/dist-packages (from nltk) (1.3.2)\n",
            "Requirement already satisfied: regex>=2021.8.3 in /usr/local/lib/python3.10/dist-packages (from nltk) (2023.12.25)\n",
            "Requirement already satisfied: tqdm in /usr/local/lib/python3.10/dist-packages (from nltk) (4.66.2)\n"
          ]
        },
        {
          "output_type": "stream",
          "name": "stderr",
          "text": [
            "[nltk_data] Downloading package stopwords to /root/nltk_data...\n",
            "[nltk_data]   Package stopwords is already up-to-date!\n"
          ]
        },
        {
          "output_type": "stream",
          "name": "stdout",
          "text": [
            "Train Data (First 5 Records):\n",
            "   serial_no                          title_year       genre  \\\n",
            "0          1       Oscar et la dame rose (2009)       drama    \n",
            "1          2                       Cupid (1997)    thriller    \n",
            "2          3   Young, Wild and Wonderful (1980)       adult    \n",
            "3          4              The Secret Sin (1915)       drama    \n",
            "4          5             The Unrecovered (2007)       drama    \n",
            "\n",
            "                                         description  \n",
            "0   Listening in to a conversation between his do...  \n",
            "1   A brother and sister with a past incestuous r...  \n",
            "2   As the bus empties the students for their fie...  \n",
            "3   To help their unemployed father make ends mee...  \n",
            "4   The film's title refers not only to the un-re...  \n",
            "\n",
            "Test Data (First 5 Records):\n",
            "   serial_no                     title_year  \\\n",
            "0          1          Edgar's Lunch (1998)    \n",
            "1          2      La guerra de papá (1977)    \n",
            "2          3   Off the Beaten Track (2010)    \n",
            "3          4        Meu Amigo Hindu (2015)    \n",
            "4          5             Er nu zhai (1955)    \n",
            "\n",
            "                                         description  \n",
            "0   L.R. Brane loves his life - his car, his apar...  \n",
            "1   Spain, March 1964: Quico is a very naughty ch...  \n",
            "2   One year in the life of Albin and his family ...  \n",
            "3   His father has died, he hasn't spoken with hi...  \n",
            "4   Before he was known internationally as a mart...  \n",
            "\n",
            "Test Data Solution (First 5 Records):\n",
            "   serial_no                     title_year          genre  \\\n",
            "0          1          Edgar's Lunch (1998)       thriller    \n",
            "1          2      La guerra de papá (1977)         comedy    \n",
            "2          3   Off the Beaten Track (2010)    documentary    \n",
            "3          4        Meu Amigo Hindu (2015)          drama    \n",
            "4          5             Er nu zhai (1955)          drama    \n",
            "\n",
            "                                         description  \n",
            "0   L.R. Brane loves his life - his car, his apar...  \n",
            "1   Spain, March 1964: Quico is a very naughty ch...  \n",
            "2   One year in the life of Albin and his family ...  \n",
            "3   His father has died, he hasn't spoken with hi...  \n",
            "4   Before he was known internationally as a mart...  \n",
            "\n",
            "Predicted Genres for First Five Test Data Entries:\n",
            "  - Predicted Genre:  drama \n",
            "  - Predicted Genre:  drama \n",
            "  - Predicted Genre:  documentary \n",
            "  - Predicted Genre:  drama \n",
            "  - Predicted Genre:  drama \n",
            "Model Accuracy: 0.5394095940959409\n"
          ]
        }
      ]
    }
  ]
}